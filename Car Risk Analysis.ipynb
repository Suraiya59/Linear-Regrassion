{
 "cells": [
  {
   "cell_type": "code",
   "execution_count": 1,
   "id": "367aaf0b",
   "metadata": {},
   "outputs": [],
   "source": [
    "import numpy as np\n",
    "import matplotlib.pyplot as plt\n",
    "import pandas as pd "
   ]
  },
  {
   "cell_type": "code",
   "execution_count": 2,
   "id": "06049745",
   "metadata": {},
   "outputs": [],
   "source": [
    "df=pd.read_csv('car driving risk analysis.csv')"
   ]
  },
  {
   "cell_type": "code",
   "execution_count": 3,
   "id": "23e4c995",
   "metadata": {},
   "outputs": [],
   "source": [
    "S=df[['speed']]\n",
    "R=df['risk']"
   ]
  },
  {
   "cell_type": "code",
   "execution_count": 4,
   "id": "ce99d44e",
   "metadata": {},
   "outputs": [],
   "source": [
    "from sklearn.model_selection import train_test_split"
   ]
  },
  {
   "cell_type": "code",
   "execution_count": 5,
   "id": "0e2cd4cd",
   "metadata": {},
   "outputs": [],
   "source": [
    "Strain,Stest,Rtrain,Rtest=train_test_split(S,R, test_size=.30)"
   ]
  },
  {
   "cell_type": "code",
   "execution_count": 6,
   "id": "15d8d17a",
   "metadata": {},
   "outputs": [],
   "source": [
    "from sklearn.linear_model import LinearRegression "
   ]
  },
  {
   "cell_type": "code",
   "execution_count": 8,
   "id": "8920bb80",
   "metadata": {},
   "outputs": [],
   "source": [
    "call=LinearRegression()"
   ]
  },
  {
   "cell_type": "code",
   "execution_count": 18,
   "id": "d2449756",
   "metadata": {},
   "outputs": [
    {
     "data": {
      "text/plain": [
       "LinearRegression()"
      ]
     },
     "execution_count": 18,
     "metadata": {},
     "output_type": "execute_result"
    }
   ],
   "source": [
    "call.fit(Strain,Rtrain)"
   ]
  },
  {
   "cell_type": "code",
   "execution_count": 20,
   "id": "126c7299",
   "metadata": {},
   "outputs": [
    {
     "data": {
      "text/plain": [
       "array([27.73724253, 61.89560145, 97.6805489 , 71.65513258, 34.24359661])"
      ]
     },
     "execution_count": 20,
     "metadata": {},
     "output_type": "execute_result"
    }
   ],
   "source": [
    "call.predict(Stest)"
   ]
  },
  {
   "cell_type": "code",
   "execution_count": 24,
   "id": "caf0ea82",
   "metadata": {},
   "outputs": [
    {
     "name": "stderr",
     "output_type": "stream",
     "text": [
      "C:\\ProgramData\\Anaconda3\\lib\\site-packages\\sklearn\\base.py:450: UserWarning: X does not have valid feature names, but LinearRegression was fitted with feature names\n",
      "  warnings.warn(\n"
     ]
    },
    {
     "data": {
      "text/plain": [
       "array([81.08934599])"
      ]
     },
     "execution_count": 24,
     "metadata": {},
     "output_type": "execute_result"
    }
   ],
   "source": [
    "call.predict([[259]])"
   ]
  },
  {
   "cell_type": "code",
   "execution_count": 26,
   "id": "95569d6e",
   "metadata": {},
   "outputs": [
    {
     "data": {
      "text/plain": [
       "array([0.3253177])"
      ]
     },
     "execution_count": 26,
     "metadata": {},
     "output_type": "execute_result"
    }
   ],
   "source": [
    "call.coef_"
   ]
  },
  {
   "cell_type": "code",
   "execution_count": 27,
   "id": "1b95bd5a",
   "metadata": {},
   "outputs": [
    {
     "data": {
      "text/plain": [
       "-3.167939361492266"
      ]
     },
     "execution_count": 27,
     "metadata": {},
     "output_type": "execute_result"
    }
   ],
   "source": [
    "call.intercept_"
   ]
  },
  {
   "cell_type": "code",
   "execution_count": 28,
   "id": "2d016532",
   "metadata": {},
   "outputs": [],
   "source": [
    "y=0.3253177*259+(-3.167939361492266)"
   ]
  },
  {
   "cell_type": "code",
   "execution_count": 29,
   "id": "bc18c911",
   "metadata": {},
   "outputs": [
    {
     "data": {
      "text/plain": [
       "81.08934493850774"
      ]
     },
     "execution_count": 29,
     "metadata": {},
     "output_type": "execute_result"
    }
   ],
   "source": [
    "y"
   ]
  },
  {
   "cell_type": "code",
   "execution_count": 36,
   "id": "a988d12c",
   "metadata": {},
   "outputs": [
    {
     "data": {
      "text/plain": [
       "Text(0.5, 1.0, 'Car Driving Risk Analysis')"
      ]
     },
     "execution_count": 36,
     "metadata": {},
     "output_type": "execute_result"
    },
    {
     "data": {
      "image/png": "[encoded data removed]",
      "text/plain": [
       "<Figure size 640x480 with 1 Axes>"
      ]
     },
     "metadata": {},
     "output_type": "display_data"
    }
   ],
   "source": [
    "plt.plot(df.speed,call.predict(df[['speed']]))\n",
    "plt.scatter(df['speed'],df['risk'],marker='*',color='blue')\n",
    "plt.xlabel('speeds')\n",
    "plt.ylabel('risk')\n",
    "plt.title('Car Driving Risk Analysis')"
   ]
  },
  {
   "cell_type": "code",
   "execution_count": null,
   "id": "6059cf62",
   "metadata": {},
   "outputs": [],
   "source": []
  }
 ],
 "metadata": {
  "kernelspec": {
   "display_name": "Python 3 (ipykernel)",
   "language": "python",
   "name": "python3"
  },
  "language_info": {
   "codemirror_mode": {
    "name": "ipython",
    "version": 3
   },
   "file_extension": ".py",
   "mimetype": "text/x-python",
   "name": "python",
   "nbconvert_exporter": "python",
   "pygments_lexer": "ipython3",
   "version": "3.9.13"
  }
 },
 "nbformat": 4,
 "nbformat_minor": 5
}
