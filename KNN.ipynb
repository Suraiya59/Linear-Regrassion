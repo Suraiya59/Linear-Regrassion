{
 "cells": [
  {
   "cell_type": "code",
   "execution_count": 2,
   "id": "261c1ef3",
   "metadata": {},
   "outputs": [],
   "source": [
    "#first features\n",
    "weather = ['sunny', 'sunny', 'overcast', 'rainy', 'rainy', 'rainy', 'overcast', 'sunny', 'sunny', 'rainy', 'sunny',  'overcast', 'overcast', 'rainy']"
   ]
  },
  {
   "cell_type": "code",
   "execution_count": 3,
   "id": "a8c6ce06",
   "metadata": {},
   "outputs": [],
   "source": [
    "#second features\n",
    "temp= ['hot', 'hot', 'hot', 'mild', 'cool', 'cool', 'cool', 'mild', 'cool', 'mild', 'mild','mild', 'hot', 'mild']"
   ]
  },
  {
   "cell_type": "code",
   "execution_count": 4,
   "id": "5808956c",
   "metadata": {},
   "outputs": [],
   "source": [
    "#label or target variable \n",
    "play = ['no', 'no', 'yes', 'yes', 'yes', 'no', 'yes', 'no', 'yes', 'yes', 'yes','yes', 'yes', 'no']"
   ]
  },
  {
   "cell_type": "code",
   "execution_count": 5,
   "id": "10b9fdca",
   "metadata": {},
   "outputs": [],
   "source": [
    "#import label Encoder\n",
    "from sklearn import preprocessing "
   ]
  },
  {
   "cell_type": "code",
   "execution_count": 6,
   "id": "0ac73dba",
   "metadata": {},
   "outputs": [],
   "source": [
    "#creating label encoder\n",
    "le= preprocessing .LabelEncoder ()"
   ]
  },
  {
   "cell_type": "code",
   "execution_count": 7,
   "id": "0140a09a",
   "metadata": {},
   "outputs": [],
   "source": [
    "#converting string labels into numbers\n",
    "weather_encoded =le.fit_transform (weather)"
   ]
  },
  {
   "cell_type": "code",
   "execution_count": 8,
   "id": "95453c2a",
   "metadata": {},
   "outputs": [
    {
     "data": {
      "text/plain": [
       "array([2, 2, 0, 1, 1, 1, 0, 2, 2, 1, 2, 0, 0, 1], dtype=int64)"
      ]
     },
     "execution_count": 8,
     "metadata": {},
     "output_type": "execute_result"
    }
   ],
   "source": [
    "weather_encoded "
   ]
  },
  {
   "cell_type": "code",
   "execution_count": 10,
   "id": "bc524256",
   "metadata": {},
   "outputs": [],
   "source": [
    "#converting string into numbers \n",
    "temp_encoded =le.fit_transform(temp)"
   ]
  },
  {
   "cell_type": "code",
   "execution_count": 11,
   "id": "ead4b405",
   "metadata": {},
   "outputs": [],
   "source": [
    "label_col=le.fit_transform(play)"
   ]
  },
  {
   "cell_type": "code",
   "execution_count": 12,
   "id": "5dc19d74",
   "metadata": {},
   "outputs": [
    {
     "data": {
      "text/plain": [
       "array([1, 1, 1, 2, 0, 0, 0, 2, 0, 2, 2, 2, 1, 2], dtype=int64)"
      ]
     },
     "execution_count": 12,
     "metadata": {},
     "output_type": "execute_result"
    }
   ],
   "source": [
    "temp_encoded"
   ]
  },
  {
   "cell_type": "code",
   "execution_count": 13,
   "id": "c4a5f784",
   "metadata": {},
   "outputs": [
    {
     "data": {
      "text/plain": [
       "array([0, 0, 1, 1, 1, 0, 1, 0, 1, 1, 1, 1, 1, 0], dtype=int64)"
      ]
     },
     "execution_count": 13,
     "metadata": {},
     "output_type": "execute_result"
    }
   ],
   "source": [
    "label_col"
   ]
  },
  {
   "cell_type": "code",
   "execution_count": 15,
   "id": "c7f563b0",
   "metadata": {},
   "outputs": [],
   "source": [
    "#combining weather & temp into single list of tuples \n",
    "features =list (zip(weather_encoded,temp_encoded))"
   ]
  },
  {
   "cell_type": "code",
   "execution_count": 16,
   "id": "ec78d438",
   "metadata": {},
   "outputs": [
    {
     "data": {
      "text/plain": [
       "[(2, 1),\n",
       " (2, 1),\n",
       " (0, 1),\n",
       " (1, 2),\n",
       " (1, 0),\n",
       " (1, 0),\n",
       " (0, 0),\n",
       " (2, 2),\n",
       " (2, 0),\n",
       " (1, 2),\n",
       " (2, 2),\n",
       " (0, 2),\n",
       " (0, 1),\n",
       " (1, 2)]"
      ]
     },
     "execution_count": 16,
     "metadata": {},
     "output_type": "execute_result"
    }
   ],
   "source": [
    "features"
   ]
  },
  {
   "cell_type": "code",
   "execution_count": 24,
   "id": "c69457cf",
   "metadata": {},
   "outputs": [],
   "source": [
    "from  sklearn.neighbors import KNeighborsClassifier \n",
    "model= KNeighborsClassifier(n_neighbors=3)"
   ]
  },
  {
   "cell_type": "code",
   "execution_count": 32,
   "id": "1abc6dd2",
   "metadata": {},
   "outputs": [
    {
     "data": {
      "text/plain": [
       "KNeighborsClassifier(n_neighbors=3)"
      ]
     },
     "execution_count": 32,
     "metadata": {},
     "output_type": "execute_result"
    }
   ],
   "source": [
    "#train the model using the train sets \n",
    "model.fit(features,label_col)"
   ]
  },
  {
   "cell_type": "code",
   "execution_count": 35,
   "id": "ff562673",
   "metadata": {},
   "outputs": [
    {
     "name": "stdout",
     "output_type": "stream",
     "text": [
      "[1]\n"
     ]
    },
    {
     "name": "stderr",
     "output_type": "stream",
     "text": [
      "C:\\ProgramData\\Anaconda3\\lib\\site-packages\\sklearn\\neighbors\\_classification.py:228: FutureWarning: Unlike other reduction functions (e.g. `skew`, `kurtosis`), the default behavior of `mode` typically preserves the axis it acts along. In SciPy 1.11.0, this behavior will change: the default value of `keepdims` will become False, the `axis` over which the statistic is taken will be eliminated, and the value None will no longer be accepted. Set `keepdims` to True or False to avoid this warning.\n",
      "  mode, _ = stats.mode(_y[neigh_ind, k], axis=1)\n"
     ]
    }
   ],
   "source": [
    "#predicted output\n",
    "predicted=model.predict([[0,2]]) #0=overcast,2=mild\n",
    "print(predicted)\n"
   ]
  },
  {
   "cell_type": "code",
   "execution_count": null,
   "id": "e8e573f5",
   "metadata": {},
   "outputs": [],
   "source": []
  }
 ],
 "metadata": {
  "kernelspec": {
   "display_name": "Python 3 (ipykernel)",
   "language": "python",
   "name": "python3"
  },
  "language_info": {
   "codemirror_mode": {
    "name": "ipython",
    "version": 3
   },
   "file_extension": ".py",
   "mimetype": "text/x-python",
   "name": "python",
   "nbconvert_exporter": "python",
   "pygments_lexer": "ipython3",
   "version": "3.9.13"
  }
 },
 "nbformat": 4,
 "nbformat_minor": 5
}
